{
 "cells": [
  {
   "cell_type": "markdown",
   "id": "ceb7a427-fb8e-4b99-9d86-2680cf356a8c",
   "metadata": {},
   "source": [
    "## Using the model"
   ]
  },
  {
   "cell_type": "code",
   "execution_count": 15,
   "id": "ab171a98-f27e-492d-81b4-70f02cc0e294",
   "metadata": {},
   "outputs": [
    {
     "data": {
      "text/plain": [
       "array([18.632])"
      ]
     },
     "execution_count": 15,
     "metadata": {},
     "output_type": "execute_result"
    }
   ],
   "source": [
    "import numpy as np\n",
    "from joblib import dump,load\n",
    "model = load('House_price_predictor')\n",
    "\n",
    "features = np.array([[ 0.15682292, -0.4898311 ,  0.98336806, -0.27288841,  0.47919371,\n",
    "        0.29155204,  -0.87020968, -0.68730678,  1.62579367,  3.50571521,\n",
    "        0.81196637,  10.44624347,  0.81480158]])\n",
    "\n",
    "model.predict(features)"
   ]
  },
  {
   "cell_type": "code",
   "execution_count": null,
   "id": "93c2619e-2180-430a-a764-1b0662f3365a",
   "metadata": {},
   "outputs": [],
   "source": []
  }
 ],
 "metadata": {
  "kernelspec": {
   "display_name": "Python 3 (ipykernel)",
   "language": "python",
   "name": "python3"
  },
  "language_info": {
   "codemirror_mode": {
    "name": "ipython",
    "version": 3
   },
   "file_extension": ".py",
   "mimetype": "text/x-python",
   "name": "python",
   "nbconvert_exporter": "python",
   "pygments_lexer": "ipython3",
   "version": "3.10.8"
  }
 },
 "nbformat": 4,
 "nbformat_minor": 5
}
